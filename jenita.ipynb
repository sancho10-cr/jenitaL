{
  "nbformat": 4,
  "nbformat_minor": 0,
  "metadata": {
    "colab": {
      "provenance": []
    },
    "kernelspec": {
      "name": "python3",
      "display_name": "Python 3"
    },
    "language_info": {
      "name": "python"
    }
  },
  "cells": [
    {
      "cell_type": "code",
      "execution_count": 2,
      "metadata": {
        "colab": {
          "base_uri": "https://localhost:8080/"
        },
        "id": "VsK_nnFRg8KT",
        "outputId": "b25211d0-b37e-4f21-8b4f-ab6341e3b3ef"
      },
      "outputs": [
        {
          "output_type": "stream",
          "name": "stdout",
          "text": [
            "Collecting SimpleITK\n",
            "  Downloading SimpleITK-2.4.0-cp310-cp310-manylinux_2_17_x86_64.manylinux2014_x86_64.whl.metadata (7.9 kB)\n",
            "Downloading SimpleITK-2.4.0-cp310-cp310-manylinux_2_17_x86_64.manylinux2014_x86_64.whl (52.4 MB)\n",
            "\u001b[2K   \u001b[90m━━━━━━━━━━━━━━━━━━━━━━━━━━━━━━━━━━━━━━━━\u001b[0m \u001b[32m52.4/52.4 MB\u001b[0m \u001b[31m11.3 MB/s\u001b[0m eta \u001b[36m0:00:00\u001b[0m\n",
            "\u001b[?25hInstalling collected packages: SimpleITK\n",
            "Successfully installed SimpleITK-2.4.0\n"
          ]
        }
      ],
      "source": [
        "pip install SimpleITK"
      ]
    },
    {
      "cell_type": "code",
      "source": [
        "from google.colab import drive\n",
        "import os\n",
        "import numpy as np\n",
        "import SimpleITK as sitk\n",
        "import torch\n",
        "import torch.nn as nn\n",
        "import torch.optim as optim\n",
        "from torchvision import models, transforms\n",
        "from torch.utils.data import DataLoader, Dataset\n",
        "import matplotlib.pyplot as plt\n",
        "from PIL import Image\n",
        "\n",
        "# Mount Google Drive\n",
        "drive.mount('/content/drive')\n",
        "\n",
        "# Path to your CT scan dataset in Google Drive\n",
        "dataset_dir = '/content/drive/MyDrive/jenita'\n"
      ],
      "metadata": {
        "colab": {
          "base_uri": "https://localhost:8080/"
        },
        "id": "8LBdkEDZh3Oa",
        "outputId": "dace57e2-2442-4f3d-eba6-7f2af3a04664"
      },
      "execution_count": 3,
      "outputs": [
        {
          "output_type": "stream",
          "name": "stdout",
          "text": [
            "Mounted at /content/drive\n"
          ]
        }
      ]
    },
    {
      "cell_type": "code",
      "source": [
        "class MHDDataset(Dataset):\n",
        "    def __init__(self, root_dir, transform=None):\n",
        "        self.root_dir = root_dir\n",
        "        self.transform = transform\n",
        "        self.image_paths = [os.path.join(root_dir, f) for f in os.listdir(root_dir) if f.endswith('.mhd')]\n",
        "        self.labels = [0 if 'benign' in f.lower() else 1 for f in os.listdir(root_dir)]  # Adjust labels accordingly\n",
        "\n",
        "    def __len__(self):\n",
        "        return len(self.image_paths)\n",
        "\n",
        "    def __getitem__(self, idx):\n",
        "        img_path = self.image_paths[idx]\n",
        "        label = self.labels[idx]\n",
        "        img = sitk.ReadImage(img_path)\n",
        "        img_array = sitk.GetArrayFromImage(img)\n",
        "        img_array = img_array[0]  # Assuming 3D image, take the first slice\n",
        "\n",
        "        # Convert to PIL Image and ensure it is float32\n",
        "        img_pil = Image.fromarray(img_array.astype(np.float32))\n",
        "\n",
        "        if self.transform:\n",
        "            img_pil = self.transform(img_pil)\n",
        "\n",
        "        return img_pil, label\n"
      ],
      "metadata": {
        "id": "qS2a2h1ziUS8"
      },
      "execution_count": 21,
      "outputs": []
    },
    {
      "cell_type": "code",
      "source": [
        "# Transformations with channel conversion\n",
        "transform = transforms.Compose([\n",
        "    transforms.Resize((224, 224)),\n",
        "    transforms.Grayscale(num_output_channels=3),  # Convert 1-channel to 3-channel\n",
        "    transforms.ToTensor(),\n",
        "    transforms.Normalize([0.485, 0.456, 0.406], [0.229, 0.224, 0.225])\n",
        "])\n",
        "\n",
        "# Load the dataset\n",
        "dataset = MHDDataset(root_dir=dataset_dir, transform=transform)\n",
        "train_loader = DataLoader(dataset, batch_size=20, shuffle=True)\n"
      ],
      "metadata": {
        "id": "xG-wO_AMiZeI"
      },
      "execution_count": 22,
      "outputs": []
    },
    {
      "cell_type": "code",
      "source": [
        "# Define the model (MobileNetV2)\n",
        "model = models.mobilenet_v2(weights=None)  # Use `weights=None` instead of `pretrained=False`\n",
        "model.classifier[1] = nn.Linear(model.last_channel, 2)  # Adjust for the number of classes (e.g., 2 for binary classification)\n",
        "model = model.to(device)\n"
      ],
      "metadata": {
        "id": "qMKzR9AllJK3"
      },
      "execution_count": 23,
      "outputs": []
    },
    {
      "cell_type": "code",
      "source": [
        "# Loss function and optimizer\n",
        "criterion = nn.CrossEntropyLoss()\n",
        "optimizer = optim.Adam(model.parameters(), lr=0.001)\n"
      ],
      "metadata": {
        "id": "ELNhGgmXidJJ"
      },
      "execution_count": 24,
      "outputs": []
    },
    {
      "cell_type": "code",
      "source": [
        "# Training the model\n",
        "n_epochs = 10\n",
        "train_loss = []\n",
        "train_accuracy = []\n",
        "\n",
        "for epoch in range(n_epochs):\n",
        "    model.train()\n",
        "    correct = 0\n",
        "    total = 0\n",
        "    running_loss = 0.0\n",
        "\n",
        "    for images, labels in train_loader:\n",
        "        images, labels = images.to(device), labels.to(device)\n",
        "\n",
        "        optimizer.zero_grad()\n",
        "        outputs = model(images)\n",
        "        loss = criterion(outputs, labels)\n",
        "        loss.backward()\n",
        "        optimizer.step()\n",
        "\n",
        "        running_loss += loss.item()\n",
        "        _, predicted = torch.max(outputs.data, 1)\n",
        "        total += labels.size(0)\n",
        "        correct += (predicted == labels).sum().item()\n",
        "\n",
        "    epoch_loss = running_loss / len(train_loader)\n",
        "    epoch_acc = correct / total\n",
        "\n",
        "    train_loss.append(epoch_loss)\n",
        "    train_accuracy.append(epoch_acc)\n",
        "\n",
        "    print(f'Epoch [{epoch+1}/{n_epochs}], Loss: {epoch_loss:.4f}, Accuracy: {epoch_acc:.4f}')\n",
        "\n",
        "# Save the model\n",
        "torch.save(model.state_dict(), 'Tumor_Detection_MobileNetV2.pt')\n"
      ],
      "metadata": {
        "colab": {
          "base_uri": "https://localhost:8080/"
        },
        "id": "kQXOeCoUireT",
        "outputId": "e2510c8d-cba3-45d3-f7af-ff55025b7ce8"
      },
      "execution_count": 25,
      "outputs": [
        {
          "output_type": "stream",
          "name": "stdout",
          "text": [
            "Epoch [1/10], Loss: 0.0251, Accuracy: 0.9967\n",
            "Epoch [2/10], Loss: 0.0000, Accuracy: 1.0000\n",
            "Epoch [3/10], Loss: 0.0000, Accuracy: 1.0000\n",
            "Epoch [4/10], Loss: 0.0000, Accuracy: 1.0000\n",
            "Epoch [5/10], Loss: 0.0000, Accuracy: 1.0000\n",
            "Epoch [6/10], Loss: 0.0000, Accuracy: 1.0000\n",
            "Epoch [7/10], Loss: 0.0000, Accuracy: 1.0000\n",
            "Epoch [8/10], Loss: 0.0000, Accuracy: 1.0000\n",
            "Epoch [9/10], Loss: 0.0000, Accuracy: 1.0000\n",
            "Epoch [10/10], Loss: 0.0000, Accuracy: 1.0000\n"
          ]
        }
      ]
    },
    {
      "cell_type": "code",
      "source": [
        "# Plot accuracy and loss\n",
        "def plot_acc_loss(train_loss, train_accuracy):\n",
        "    epochs = range(1, len(train_loss) + 1)\n",
        "\n",
        "    plt.figure()\n",
        "    plt.plot(epochs, train_loss, 'b', label='Training loss')\n",
        "    plt.title('Training loss')\n",
        "    plt.legend()\n",
        "\n",
        "    plt.figure()\n",
        "    plt.plot(epochs, train_accuracy, 'b', label='Training accuracy')\n",
        "    plt.title('Training accuracy')\n",
        "    plt.legend()\n",
        "\n",
        "    plt.show()\n",
        "\n",
        "plot_acc_loss(train_loss, train_accuracy)\n"
      ],
      "metadata": {
        "colab": {
          "base_uri": "https://localhost:8080/",
          "height": 887
        },
        "id": "1ySnJejg_MkL",
        "outputId": "29cd8c3d-6853-4b5b-9ea6-6c1ff659a88f"
      },
      "execution_count": 26,
      "outputs": [
        {
          "output_type": "display_data",
          "data": {
            "text/plain": [
              "<Figure size 640x480 with 1 Axes>"
            ],
            "image/png": "[encoded data removed]"
          },
          "metadata": {}
        },
        {
          "output_type": "display_data",
          "data": {
            "text/plain": [
              "<Figure size 640x480 with 1 Axes>"
            ],
            "image/png": "[encoded data removed]"
          },
          "metadata": {}
        }
      ]
    },
    {
      "cell_type": "code",
      "source": [
        "# Load the trained model's weights\n",
        "model.load_state_dict(torch.load('/content/Tumor_Detection_MobileNetV2.pt'))\n",
        "model.eval()  # Set the model to evaluation mode\n",
        "\n",
        "# Define the image preprocessing steps for inference\n",
        "preprocess = transforms.Compose([\n",
        "    transforms.Resize((224, 224)),\n",
        "    transforms.Grayscale(num_output_channels=3),  # Convert 1-channel to 3-channel if necessary\n",
        "    transforms.ToTensor(),\n",
        "    transforms.Normalize([0.485, 0.456, 0.406], [0.229, 0.224, 0.225])\n",
        "])\n",
        "\n",
        "def load_image(image_path):\n",
        "    \"\"\"Load and preprocess the image.\"\"\"\n",
        "    image = sitk.ReadImage(image_path)\n",
        "    img_array = sitk.GetArrayFromImage(image)\n",
        "    img_array = img_array[0]  # Assuming 3D image, take the first slice\n",
        "    img_pil = Image.fromarray(img_array.astype(np.float32))\n",
        "    image = preprocess(img_pil)\n",
        "    image = image.unsqueeze(0)  # Add batch dimension\n",
        "    return image.to(device)\n",
        "\n",
        "def predict(image_path, model):\n",
        "    \"\"\"Predicts the class of an image.\"\"\"\n",
        "    image = load_image(image_path)\n",
        "    with torch.no_grad():\n",
        "        outputs = model(image)\n",
        "        _, predicted = torch.max(outputs.data, 1)\n",
        "    return predicted.item()\n",
        "\n",
        "# Get class names from directory structure\n",
        "class_names = ['benign', 'malignant']  # Adjust according to your labels\n",
        "\n",
        "image_path = '/content/drive/MyDrive/jenita/1.3.6.1.4.1.14519.5.2.1.6279.6001.100225287222365663678666836860 - Copy.mhd'  # Replace with your image path\n",
        "predicted_class = predict(image_path, model)\n",
        "predicted_class_name = class_names[predicted_class]\n",
        "\n",
        "print(f'Predicted Class: {predicted_class_name}')\n"
      ],
      "metadata": {
        "colab": {
          "base_uri": "https://localhost:8080/"
        },
        "id": "hxtcWxsP_k2K",
        "outputId": "37cc0402-d231-47a1-a01d-39ed0408395d"
      },
      "execution_count": 27,
      "outputs": [
        {
          "output_type": "stream",
          "name": "stdout",
          "text": [
            "Predicted Class: malignant\n"
          ]
        }
      ]
    }
  ]
}