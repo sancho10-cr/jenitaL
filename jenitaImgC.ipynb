{
  "nbformat": 4,
  "nbformat_minor": 0,
  "metadata": {
    "colab": {
      "provenance": []
    },
    "kernelspec": {
      "name": "python3",
      "display_name": "Python 3"
    },
    "language_info": {
      "name": "python"
    }
  },
  "cells": [
    {
      "cell_type": "code",
      "execution_count": null,
      "metadata": {
        "id": "T7p4Z_6dBMb1"
      },
      "outputs": [],
      "source": [
        "from google.colab import drive\n",
        "\n",
        "# Mount Google Drive\n",
        "drive.mount('/content/drive')\n"
      ]
    },
    {
      "cell_type": "code",
      "source": [
        "import os\n",
        "import torch\n",
        "from torchvision import transforms\n",
        "from torch.utils.data import DataLoader, Dataset\n",
        "from PIL import Image\n",
        "\n",
        "# Path to your dataset in Google Drive\n",
        "dataset_dir = '/content/drive/MyDrive/jenita'\n"
      ],
      "metadata": {
        "id": "Aax4jMglBk6w"
      },
      "execution_count": null,
      "outputs": []
    },
    {
      "cell_type": "code",
      "source": [
        "class ImageDataset(Dataset):\n",
        "    def __init__(self, root_dir, transform=None):\n",
        "        self.root_dir = root_dir\n",
        "        self.transform = transform\n",
        "        self.image_paths = []\n",
        "        self.labels = []\n",
        "\n",
        "        # Load image paths and labels\n",
        "        for label_dir in os.listdir(root_dir):\n",
        "            label_dir_path = os.path.join(root_dir, label_dir)\n",
        "            if os.path.isdir(label_dir_path):\n",
        "                for img_file in os.listdir(label_dir_path):\n",
        "                    if img_file.endswith(('.jpg', '.png')):\n",
        "                        self.image_paths.append(os.path.join(label_dir_path, img_file))\n",
        "                        self.labels.append(0 if label_dir == 'benign' else 1)  # Adjust labels accordingly\n",
        "\n",
        "    def __len__(self):\n",
        "        return len(self.image_paths)\n",
        "\n",
        "    def __getitem__(self, idx):\n",
        "        img_path = self.image_paths[idx]\n",
        "        label = self.labels[idx]\n",
        "\n",
        "        img_pil = Image.open(img_path).convert('RGB')\n",
        "\n",
        "        if self.transform:\n",
        "            img_pil = self.transform(img_pil)\n",
        "\n",
        "        return img_pil, label\n"
      ],
      "metadata": {
        "id": "5IBwRYgWBoyw"
      },
      "execution_count": null,
      "outputs": []
    },
    {
      "cell_type": "code",
      "source": [
        "# Transformations\n",
        "transform = transforms.Compose([\n",
        "    transforms.Resize((224, 224)),\n",
        "    transforms.ToTensor(),\n",
        "    transforms.Normalize([0.485, 0.456, 0.406], [0.229, 0.224, 0.225])\n",
        "])\n",
        "\n",
        "# Load the dataset\n",
        "dataset = ImageDataset(root_dir=dataset_dir, transform=transform)\n",
        "train_loader = DataLoader(dataset, batch_size=20, shuffle=True)\n"
      ],
      "metadata": {
        "id": "z2OzzoUzBumb"
      },
      "execution_count": null,
      "outputs": []
    },
    {
      "cell_type": "code",
      "source": [
        "import torch.nn as nn\n",
        "import torch.optim as optim\n",
        "from torchvision import models\n",
        "\n",
        "# Define the model (MobileNetV2)\n",
        "device = torch.device(\"cuda\" if torch.cuda.is_available() else \"cpu\")\n",
        "model = models.mobilenet_v2(weights=None)  # Use `weights=None` instead of `pretrained=False`\n",
        "model.classifier[1] = nn.Linear(model.last_channel, 2)  # Adjust for the number of classes (2 for binary classification)\n",
        "model = model.to(device)\n",
        "\n",
        "# Loss function and optimizer\n",
        "criterion = nn.CrossEntropyLoss()\n",
        "optimizer = optim.Adam(model.parameters(), lr=0.001)\n"
      ],
      "metadata": {
        "id": "LVrFTF7fBxs5"
      },
      "execution_count": null,
      "outputs": []
    },
    {
      "cell_type": "code",
      "source": [
        "n_epochs = 10\n",
        "train_loss = []\n",
        "train_accuracy = []\n",
        "\n",
        "for epoch in range(n_epochs):\n",
        "    model.train()\n",
        "    correct = 0\n",
        "    total = 0\n",
        "    running_loss = 0.0\n",
        "\n",
        "    for images, labels in train_loader:\n",
        "        images, labels = images.to(device), labels.to(device)\n",
        "\n",
        "        optimizer.zero_grad()\n",
        "        outputs = model(images)\n",
        "        loss = criterion(outputs, labels)\n",
        "        loss.backward()\n",
        "        optimizer.step()\n",
        "\n",
        "        running_loss += loss.item()\n",
        "        _, predicted = torch.max(outputs.data, 1)\n",
        "        total += labels.size(0)\n",
        "        correct += (predicted == labels).sum().item()\n",
        "\n",
        "    epoch_loss = running_loss / len(train_loader)\n",
        "    epoch_acc = correct / total\n",
        "\n",
        "    train_loss.append(epoch_loss)\n",
        "    train_accuracy.append(epoch_acc)\n",
        "\n",
        "    print(f'Epoch [{epoch+1}/{n_epochs}], Loss: {epoch_loss:.4f}, Accuracy: {epoch_acc:.4f}')\n"
      ],
      "metadata": {
        "id": "CFREs2QAB0sZ"
      },
      "execution_count": null,
      "outputs": []
    },
    {
      "cell_type": "code",
      "source": [
        "# Save the model\n",
        "torch.save(model.state_dict(), '/content/Tumor_Detection_MobileNetV2.pt')\n"
      ],
      "metadata": {
        "id": "bksMPXN7B6kt"
      },
      "execution_count": null,
      "outputs": []
    },
    {
      "cell_type": "code",
      "source": [
        "import matplotlib.pyplot as plt\n",
        "\n",
        "# Plot accuracy and loss\n",
        "def plot_acc_loss(train_loss, train_accuracy):\n",
        "    epochs = range(1, len(train_loss) + 1)\n",
        "\n",
        "    plt.figure()\n",
        "    plt.plot(epochs, train_loss, 'b', label='Training loss')\n",
        "    plt.title('Training loss')\n",
        "    plt.legend()\n",
        "\n",
        "    plt.figure()\n",
        "    plt.plot(epochs, train_accuracy, 'b', label='Training accuracy')\n",
        "    plt.title('Training accuracy')\n",
        "    plt.legend()\n",
        "\n",
        "    plt.show()\n",
        "\n",
        "plot_acc_loss(train_loss, train_accuracy)\n"
      ],
      "metadata": {
        "id": "nr_Z1xJLB9rx"
      },
      "execution_count": null,
      "outputs": []
    },
    {
      "cell_type": "code",
      "source": [
        "# Load the trained model's weights\n",
        "model.load_state_dict(torch.load('/content/Tumor_Detection_MobileNetV2.pt'))\n",
        "model.eval()  # Set the model to evaluation mode\n",
        "\n",
        "# Define the image preprocessing steps for inference\n",
        "preprocess = transforms.Compose([\n",
        "    transforms.Resize((224, 224)),\n",
        "    transforms.ToTensor(),\n",
        "    transforms.Normalize([0.485, 0.456, 0.406], [0.229, 0.224, 0.225])\n",
        "])\n",
        "\n",
        "def load_image(image_path):\n",
        "    \"\"\"Load and preprocess the image.\"\"\"\n",
        "    img_pil = Image.open(image_path).convert('RGB')\n",
        "    image = preprocess(img_pil)\n",
        "    image = image.unsqueeze(0)  # Add batch dimension\n",
        "    return image.to(device)\n",
        "\n",
        "def predict(image_path, model):\n",
        "    \"\"\"Predicts the class of an image.\"\"\"\n",
        "    image = load_image(image_path)\n",
        "    with torch.no_grad():\n",
        "        outputs = model(image)\n",
        "        _, predicted = torch.max(outputs.data, 1)\n",
        "    return predicted.item()\n"
      ],
      "metadata": {
        "id": "cRfquACOCCkJ"
      },
      "execution_count": null,
      "outputs": []
    },
    {
      "cell_type": "code",
      "source": [
        "# Get class names from directory structure\n",
        "class_names = ['benign', 'malignant']  # Adjust according to your labels\n",
        "\n",
        "image_path = '/content/drive/MyDrive/jenita/some_image.jpg'  # Replace with your image path\n",
        "predicted_class = predict(image_path, model)\n",
        "predicted_class_name = class_names[predicted_class]\n",
        "\n",
        "print(f'Predicted Class: {predicted_class_name}')\n"
      ],
      "metadata": {
        "id": "_jkNEvX3CDos"
      },
      "execution_count": null,
      "outputs": []
    }
  ]
}